{
 "cells": [
  {
   "cell_type": "markdown",
   "id": "60d0c32a",
   "metadata": {},
   "source": [
    "# PYTHON TASK 2"
   ]
  },
  {
   "cell_type": "code",
   "execution_count": 1,
   "id": "1108f99e",
   "metadata": {},
   "outputs": [
    {
     "name": "stdout",
     "output_type": "stream",
     "text": [
      "True\n",
      "True\n"
     ]
    }
   ],
   "source": [
    "#2]\n",
    "starts_with = lambda x: True if x.startswith('P') else False\n",
    "print(starts_with('Pythogoras theorem'))\n",
    "starts_with = lambda x: True if x.startswith('B') else False\n",
    "print(starts_with('Boat'))"
   ]
  },
  {
   "cell_type": "code",
   "execution_count": 3,
   "id": "41a32cf9",
   "metadata": {},
   "outputs": [
    {
     "name": "stdout",
     "output_type": "stream",
     "text": [
      "False\n",
      "False\n",
      "True\n"
     ]
    }
   ],
   "source": [
    "str1 = \"Alien\"\n",
    "str2 = \"is\"\n",
    "str3 = \"2Elon musk\"\n",
    "print(any(map(str.isdigit, str1)))\n",
    "print(any(map(str.isdigit, str2)))\n",
    "print(any(map(str.isdigit, str3)))"
   ]
  },
  {
   "cell_type": "code",
   "execution_count": 5,
   "id": "1e54883c",
   "metadata": {},
   "outputs": [
    {
     "name": "stdout",
     "output_type": "stream",
     "text": [
      "The original list is : [('January', 1), ('February', 2), ('August', 8)]\n",
      "The sort order list is : [8, 2, 1]\n",
      "The list after appropriate sorting : [('August', 8), ('February', 2), ('January', 1)]\n"
     ]
    }
   ],
   "source": [
    "test_list = [('January',1 ), ('February', 2), ('August', 8)]\n",
    "sort_order = [8, 2, 1]\n",
    "print(\"The original list is : \" + str(test_list))\n",
    "print(\"The sort order list is : \" + str(sort_order))\n",
    "res = list(sorted(test_list,\n",
    "key=lambda i: sort_order.index(i[1])))\n",
    "print(\"The list after appropriate sorting : \" + str(res))"
   ]
  },
  {
   "cell_type": "code",
   "execution_count": 6,
   "id": "2f1cb004",
   "metadata": {},
   "outputs": [
    {
     "name": "stdout",
     "output_type": "stream",
     "text": [
      "Square of 1 is 1\n",
      "Square of 2 is 4\n",
      "Square of 3 is 9\n",
      "Square of 4 is 16\n",
      "Square of 5 is 25\n",
      "Square of 6 is 36\n",
      "Square of 7 is 49\n",
      "Square of 8 is 64\n",
      "Square of 9 is 81\n",
      "Square of 10 is 100\n"
     ]
    }
   ],
   "source": [
    "n=1\n",
    "while n<=10:\n",
    "    print(\"Square of\",n,\"is\",n*n)\n",
    "    n=n+1"
   ]
  },
  {
   "cell_type": "code",
   "execution_count": 7,
   "id": "f91c908c",
   "metadata": {},
   "outputs": [
    {
     "name": "stdout",
     "output_type": "stream",
     "text": [
      "Original list of integers:\n",
      "[1, 2, 3, 4, 5, 6, 7, 8, 9, 10]\n",
      "\n",
      "Square every number of the said list:\n",
      "[1, 4, 9, 16, 25, 36, 49, 64, 81, 100]\n",
      "\n",
      "Cube every number of the said list:\n",
      "[1, 8, 27, 64, 125, 216, 343, 512, 729, 1000]\n"
     ]
    }
   ],
   "source": [
    "nums = [1, 2, 3, 4, 5, 6, 7, 8, 9, 10]\n",
    "print(\"Original list of integers:\")\n",
    "print(nums)\n",
    "print(\"\\nSquare every number of the said list:\")\n",
    "square_nums = list(map(lambda x: x ** 2, nums))\n",
    "print(square_nums)\n",
    "print(\"\\nCube every number of the said list:\")\n",
    "cube_nums = list(map(lambda x: x ** 3, nums))\n",
    "print(cube_nums)"
   ]
  },
  {
   "cell_type": "code",
   "execution_count": 8,
   "id": "0ca8d09b",
   "metadata": {},
   "outputs": [
    {
     "name": "stdout",
     "output_type": "stream",
     "text": [
      "[2]\n"
     ]
    }
   ],
   "source": [
    "numbers = [1, 2, 3]\n",
    "even = filter(lambda n: n % 2 == 0, numbers)\n",
    "print(list(even))"
   ]
  },
  {
   "cell_type": "code",
   "execution_count": 9,
   "id": "d1c5e183",
   "metadata": {},
   "outputs": [
    {
     "name": "stdout",
     "output_type": "stream",
     "text": [
      "Original List : [2, 5, 7, 8, 10, 13, 16]\n",
      "Filtered List : [5, 7, 13]\n"
     ]
    }
   ],
   "source": [
    "def odd(x):\n",
    "    return x % 2 == 1\n",
    " \n",
    "a = [2, 5, 7, 8, 10, 13, 16]\n",
    " \n",
    "result = filter(odd, a)\n",
    "print('Original List :', a)\n",
    "print('Filtered List :', list(result))"
   ]
  },
  {
   "cell_type": "code",
   "execution_count": 10,
   "id": "7d8c464a",
   "metadata": {},
   "outputs": [
    {
     "name": "stdout",
     "output_type": "stream",
     "text": [
      "Original arrays:\n",
      "[-1, 2, -3, 5, 7, 8, 9, -10]\n",
      "\n",
      "Rearrange positive and negative numbers of the said array:\n",
      "[2, 5, 7, 8, 9, -10, -3, -1]\n"
     ]
    }
   ],
   "source": [
    "array_nums = [-1, 2, -3, 5, 7, 8, 9, -10]\n",
    "print(\"Original arrays:\")\n",
    "print(array_nums)\n",
    "result = sorted(array_nums, key = lambda i: 0 if i == 0 else -1 / i)\n",
    "print(\"\\nRearrange positive and negative numbers of the said array:\")\n",
    "print(result)"
   ]
  },
  {
   "cell_type": "code",
   "execution_count": 4,
   "id": "2a2c26a7",
   "metadata": {},
   "outputs": [
    {
     "name": "stdout",
     "output_type": "stream",
     "text": [
      "Valid Password\n"
     ]
    }
   ],
   "source": [
    "#1] \n",
    "# Python program to check validation of password\n",
    "# Module of regular expression is used with search()\n",
    "import re\n",
    "password = \"r6#=UfLxaCa2$RLCIDri@\"\n",
    "flag = 0\n",
    "while True:\n",
    "    if (len(password)<=8):\n",
    "        flag = -1\n",
    "        break\n",
    "    elif not re.search(\"[a-z]\", password):\n",
    "        flag = -1\n",
    "        break\n",
    "    elif not re.search(\"[A-Z]\", password):\n",
    "        flag = -1\n",
    "        break\n",
    "    elif not re.search(\"[0-9]\", password):\n",
    "        flag = -1\n",
    "        break\n",
    "    elif not re.search(\"[_@$]\" , password):\n",
    "        flag = -1\n",
    "        break\n",
    "    elif re.search(\"\\s\" , password):\n",
    "        flag = -1\n",
    "        break\n",
    "    else:\n",
    "        flag = 0\n",
    "        print(\"Valid Password\")\n",
    "        break\n",
    "if flag == -1:\n",
    "        print(\"Invalid Password \")"
   ]
  },
  {
   "cell_type": "code",
   "execution_count": null,
   "id": "ee6d429e",
   "metadata": {},
   "outputs": [],
   "source": []
  }
 ],
 "metadata": {
  "kernelspec": {
   "display_name": "Python 3 (ipykernel)",
   "language": "python",
   "name": "python3"
  },
  "language_info": {
   "codemirror_mode": {
    "name": "ipython",
    "version": 3
   },
   "file_extension": ".py",
   "mimetype": "text/x-python",
   "name": "python",
   "nbconvert_exporter": "python",
   "pygments_lexer": "ipython3",
   "version": "3.9.7"
  }
 },
 "nbformat": 4,
 "nbformat_minor": 5
}
